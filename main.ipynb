{
 "cells": [
  {
   "cell_type": "markdown",
   "metadata": {},
   "source": [
    "# Setup"
   ]
  },
  {
   "cell_type": "code",
   "execution_count": null,
   "metadata": {},
   "outputs": [],
   "source": [
    "# Determine host\n",
    "in_colab = False\n",
    "try:\n",
    "    from google.colab import output\n",
    "    # And just to be sure ...\n",
    "    url = output.eval_js('window.location.toString()')\n",
    "    in_colab = \"colab.googleusercontent.com\" in url\n",
    "except ImportError:\n",
    "    pass"
   ]
  },
  {
   "cell_type": "code",
   "execution_count": null,
   "metadata": {},
   "outputs": [],
   "source": [
    "# If we're in colab we need to clone the repository and move into it\n",
    "if in_colab:\n",
    "    github_account = 'iandanforth'\n",
    "    repository_name = 'isomorphic-notebook'\n",
    "    # Check if we're already have this repo\n",
    "    pwd = !pwd  # Invokes command line program, not ! operator\n",
    "    if repository_name not in pwd[0]:\n",
    "      !git clone https://github.com/{github_account}/{repository_name}.git\n",
    "      %cd {repository_name}\n",
    "\n",
    "# Install this library and its requirements (in development mode)\n",
    "!python setup.py develop"
   ]
  },
  {
   "cell_type": "code",
   "execution_count": null,
   "metadata": {},
   "outputs": [],
   "source": [
    "import isomorphic\n",
    "\n",
    "isomorphic.run(in_colab)"
   ]
  },
  {
   "cell_type": "code",
   "execution_count": null,
   "metadata": {},
   "outputs": [],
   "source": []
  }
 ],
 "metadata": {
  "kernelspec": {
   "display_name": "Python 3",
   "language": "python",
   "name": "python3"
  },
  "language_info": {
   "codemirror_mode": {
    "name": "ipython",
    "version": 3
   },
   "file_extension": ".py",
   "mimetype": "text/x-python",
   "name": "python",
   "nbconvert_exporter": "python",
   "pygments_lexer": "ipython3",
   "version": "3.6.8"
  }
 },
 "nbformat": 4,
 "nbformat_minor": 2
}

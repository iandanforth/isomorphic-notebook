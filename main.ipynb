{
 "cells": [
  {
   "cell_type": "markdown",
   "metadata": {},
   "source": [
    "# Setup"
   ]
  },
  {
   "cell_type": "code",
   "execution_count": null,
   "metadata": {},
   "outputs": [],
   "source": [
    "# Determine host\n",
    "in_colab = 'colab' in str(get_ipython())\n",
    "if in_colab:\n",
    "    # If we're in colab we need to clone the repository and move into it\n",
    "    github_account = 'iandanforth'\n",
    "    repository_name = 'isomorphic-notebook'\n",
    "    # Check if we're already have this repo\n",
    "    pwd = !pwd  # Invokes command line program, not ! operator\n",
    "    if repository_name not in pwd[0]:\n",
    "      !git clone https://github.com/{github_account}/{repository_name}.git\n",
    "      %cd {repository_name}\n",
    "    \n",
    "    # Optional: Plotly is a super useful alternative to inline matplotlib let's \n",
    "    # make sure it works in Colab\n",
    "    if not get_ipython().events.callbacks['pre_run_cell']:\n",
    "        import IPython\n",
    "        def configure_plotly_browser_state():\n",
    "          display(IPython.core.display.HTML('''\n",
    "                <script src=\"/static/components/requirejs/require.js\"></script>\n",
    "                <script>\n",
    "                  requirejs.config({\n",
    "                    paths: {\n",
    "                      base: '/static/base',\n",
    "                      plotly: 'https://cdn.plot.ly/plotly-latest.min.js?noext',\n",
    "                    },\n",
    "                  });\n",
    "                </script>\n",
    "                '''))\n",
    "        get_ipython().events.register('pre_run_cell', configure_plotly_browser_state)\n"
   ]
  },
  {
   "cell_type": "code",
   "execution_count": null,
   "metadata": {},
   "outputs": [],
   "source": [
    "# Install this library and its requirements (in development mode)\n",
    "!python setup.py develop"
   ]
  },
  {
   "cell_type": "markdown",
   "metadata": {},
   "source": [
    "# Main"
   ]
  },
  {
   "cell_type": "code",
   "execution_count": null,
   "metadata": {},
   "outputs": [],
   "source": [
    "import isomorphic\n",
    "\n",
    "isomorphic.run(in_colab)"
   ]
  }
 ],
 "metadata": {
  "kernelspec": {
   "display_name": "Python 3",
   "language": "python",
   "name": "python3"
  },
  "language_info": {
   "codemirror_mode": {
    "name": "ipython",
    "version": 3
   },
   "file_extension": ".py",
   "mimetype": "text/x-python",
   "name": "python",
   "nbconvert_exporter": "python",
   "pygments_lexer": "ipython3",
   "version": "3.6.8"
  }
 },
 "nbformat": 4,
 "nbformat_minor": 2
}

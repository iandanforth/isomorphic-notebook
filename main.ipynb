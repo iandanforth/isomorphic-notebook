{
 "cells": [
  {
   "cell_type": "markdown",
   "metadata": {},
   "source": [
    "# Setup"
   ]
  },
  {
   "cell_type": "code",
   "execution_count": 2,
   "metadata": {},
   "outputs": [
    {
     "name": "stdout",
     "output_type": "stream",
     "text": [
      "False\n"
     ]
    }
   ],
   "source": [
    "# Determine host\n",
    "in_colab = False\n",
    "try:\n",
    "  from google.colab import output\n",
    "  # And just to be sure ...\n",
    "  url = output.eval_js('window.location.toString()')\n",
    "  in_colab = \"colab.googleusercontent.com\" in url\n",
    "except ImportError:\n",
    "  pass"
   ]
  },
  {
   "cell_type": "code",
   "execution_count": null,
   "metadata": {},
   "outputs": [],
   "source": [
    "# If we're in colab we need to clone the repository and move into it\n",
    "if in_colab:\n",
    "    github_account = 'iandanforth'\n",
    "    repository_name = 'isomorphic-notebook'\n",
    "    !git clone https://github.com/{github_account}/{repository_name}.git\n",
    "    %cd {repository_name}"
   ]
  }
 ],
 "metadata": {
  "kernelspec": {
   "display_name": "Python 3",
   "language": "python",
   "name": "python3"
  },
  "language_info": {
   "codemirror_mode": {
    "name": "ipython",
    "version": 3
   },
   "file_extension": ".py",
   "mimetype": "text/x-python",
   "name": "python",
   "nbconvert_exporter": "python",
   "pygments_lexer": "ipython3",
   "version": "3.6.8"
  }
 },
 "nbformat": 4,
 "nbformat_minor": 2
}
